{
 "cells": [
  {
   "cell_type": "code",
   "execution_count": 1,
   "metadata": {},
   "outputs": [],
   "source": [
    "import pandas as pd\n",
    "import numpy as np\n",
    "from sklearn.preprocessing import StandardScaler"
   ]
  },
  {
   "cell_type": "markdown",
   "metadata": {},
   "source": [
    "The 1st 5 million rows of the training set is used for prediction. A quick look at the data set seems to tell that the data is in random order so no need to do random selection of 5 mil rows."
   ]
  },
  {
   "cell_type": "code",
   "execution_count": 2,
   "metadata": {},
   "outputs": [],
   "source": [
    "traindf = pd.read_csv('train.csv',nrows = 5000000)\n",
    "testdf = pd.read_csv('test.csv')\n"
   ]
  },
  {
   "cell_type": "raw",
   "metadata": {},
   "source": [
    "Preprocessing the data:\n",
    "Removing rows with null values.\n",
    "Removing outliers then.\n",
    "splitting date time field into more usable data\n",
    "Adding 2 more columns difference of longitude and latitude\n",
    "Then all the features are standardized"
   ]
  },
  {
   "cell_type": "code",
   "execution_count": 3,
   "metadata": {},
   "outputs": [],
   "source": [
    "traindf = traindf.drop(traindf[traindf.isnull().any(1)].index, axis = 0)"
   ]
  },
  {
   "cell_type": "code",
   "execution_count": 4,
   "metadata": {},
   "outputs": [],
   "source": [
    "traindf = traindf.drop(traindf[traindf['fare_amount']<0].index, axis = 0)"
   ]
  },
  {
   "cell_type": "code",
   "execution_count": 5,
   "metadata": {},
   "outputs": [],
   "source": [
    "traindf = traindf.drop(traindf[traindf['passenger_count']==208].index, axis = 0)"
   ]
  },
  {
   "cell_type": "code",
   "execution_count": 6,
   "metadata": {},
   "outputs": [],
   "source": [
    "traindf = traindf.drop(traindf[traindf['pickup_latitude']<-90].index, axis = 0)\n",
    "traindf = traindf.drop(traindf[traindf['pickup_latitude']>90].index, axis = 0)\n",
    "traindf = traindf.drop(traindf[traindf['pickup_longitude']<-180].index, axis = 0)\n",
    "traindf = traindf.drop(traindf[traindf['pickup_longitude']>180].index, axis = 0)"
   ]
  },
  {
   "cell_type": "code",
   "execution_count": 7,
   "metadata": {},
   "outputs": [],
   "source": [
    "traindf = traindf.drop(traindf[traindf['dropoff_latitude']<-90].index, axis = 0)\n",
    "traindf = traindf.drop(traindf[traindf['dropoff_latitude']>90].index, axis = 0)\n",
    "traindf = traindf.drop(traindf[traindf['dropoff_longitude']<-180].index, axis = 0)\n",
    "traindf = traindf.drop(traindf[traindf['dropoff_longitude']>180].index, axis = 0)"
   ]
  },
  {
   "cell_type": "code",
   "execution_count": 8,
   "metadata": {},
   "outputs": [],
   "source": [
    "traindf['pickup_datetime']  = pd.to_datetime(traindf['pickup_datetime'])"
   ]
  },
  {
   "cell_type": "code",
   "execution_count": 9,
   "metadata": {},
   "outputs": [],
   "source": [
    "testdf['pickup_datetime']  = pd.to_datetime(testdf['pickup_datetime'])"
   ]
  },
  {
   "cell_type": "code",
   "execution_count": 10,
   "metadata": {},
   "outputs": [],
   "source": [
    "for a in [traindf,testdf]:\n",
    "    a['Year'] = a['pickup_datetime'].dt.year\n",
    "    a['Month'] = a['pickup_datetime'].dt.month\n",
    "    a['Date'] = a['pickup_datetime'].dt.day\n",
    "    a['Day of Week'] = a['pickup_datetime'].dt.dayofweek\n",
    "    a['Hour'] = a['pickup_datetime'].dt.hour"
   ]
  },
  {
   "cell_type": "code",
   "execution_count": 11,
   "metadata": {},
   "outputs": [
    {
     "data": {
      "text/html": [
       "<div>\n",
       "<style scoped>\n",
       "    .dataframe tbody tr th:only-of-type {\n",
       "        vertical-align: middle;\n",
       "    }\n",
       "\n",
       "    .dataframe tbody tr th {\n",
       "        vertical-align: top;\n",
       "    }\n",
       "\n",
       "    .dataframe thead th {\n",
       "        text-align: right;\n",
       "    }\n",
       "</style>\n",
       "<table border=\"1\" class=\"dataframe\">\n",
       "  <thead>\n",
       "    <tr style=\"text-align: right;\">\n",
       "      <th></th>\n",
       "      <th>key</th>\n",
       "      <th>pickup_datetime</th>\n",
       "      <th>pickup_longitude</th>\n",
       "      <th>pickup_latitude</th>\n",
       "      <th>dropoff_longitude</th>\n",
       "      <th>dropoff_latitude</th>\n",
       "      <th>passenger_count</th>\n",
       "      <th>Year</th>\n",
       "      <th>Month</th>\n",
       "      <th>Date</th>\n",
       "      <th>Day of Week</th>\n",
       "      <th>Hour</th>\n",
       "    </tr>\n",
       "  </thead>\n",
       "  <tbody>\n",
       "    <tr>\n",
       "      <th>0</th>\n",
       "      <td>2015-01-27 13:08:24.0000002</td>\n",
       "      <td>2015-01-27 13:08:24+00:00</td>\n",
       "      <td>-73.973320</td>\n",
       "      <td>40.763805</td>\n",
       "      <td>-73.981430</td>\n",
       "      <td>40.743835</td>\n",
       "      <td>1</td>\n",
       "      <td>2015</td>\n",
       "      <td>1</td>\n",
       "      <td>27</td>\n",
       "      <td>1</td>\n",
       "      <td>13</td>\n",
       "    </tr>\n",
       "    <tr>\n",
       "      <th>1</th>\n",
       "      <td>2015-01-27 13:08:24.0000003</td>\n",
       "      <td>2015-01-27 13:08:24+00:00</td>\n",
       "      <td>-73.986862</td>\n",
       "      <td>40.719383</td>\n",
       "      <td>-73.998886</td>\n",
       "      <td>40.739201</td>\n",
       "      <td>1</td>\n",
       "      <td>2015</td>\n",
       "      <td>1</td>\n",
       "      <td>27</td>\n",
       "      <td>1</td>\n",
       "      <td>13</td>\n",
       "    </tr>\n",
       "    <tr>\n",
       "      <th>2</th>\n",
       "      <td>2011-10-08 11:53:44.0000002</td>\n",
       "      <td>2011-10-08 11:53:44+00:00</td>\n",
       "      <td>-73.982524</td>\n",
       "      <td>40.751260</td>\n",
       "      <td>-73.979654</td>\n",
       "      <td>40.746139</td>\n",
       "      <td>1</td>\n",
       "      <td>2011</td>\n",
       "      <td>10</td>\n",
       "      <td>8</td>\n",
       "      <td>5</td>\n",
       "      <td>11</td>\n",
       "    </tr>\n",
       "    <tr>\n",
       "      <th>3</th>\n",
       "      <td>2012-12-01 21:12:12.0000002</td>\n",
       "      <td>2012-12-01 21:12:12+00:00</td>\n",
       "      <td>-73.981160</td>\n",
       "      <td>40.767807</td>\n",
       "      <td>-73.990448</td>\n",
       "      <td>40.751635</td>\n",
       "      <td>1</td>\n",
       "      <td>2012</td>\n",
       "      <td>12</td>\n",
       "      <td>1</td>\n",
       "      <td>5</td>\n",
       "      <td>21</td>\n",
       "    </tr>\n",
       "    <tr>\n",
       "      <th>4</th>\n",
       "      <td>2012-12-01 21:12:12.0000003</td>\n",
       "      <td>2012-12-01 21:12:12+00:00</td>\n",
       "      <td>-73.966046</td>\n",
       "      <td>40.789775</td>\n",
       "      <td>-73.988565</td>\n",
       "      <td>40.744427</td>\n",
       "      <td>1</td>\n",
       "      <td>2012</td>\n",
       "      <td>12</td>\n",
       "      <td>1</td>\n",
       "      <td>5</td>\n",
       "      <td>21</td>\n",
       "    </tr>\n",
       "  </tbody>\n",
       "</table>\n",
       "</div>"
      ],
      "text/plain": [
       "                           key           pickup_datetime  pickup_longitude  \\\n",
       "0  2015-01-27 13:08:24.0000002 2015-01-27 13:08:24+00:00        -73.973320   \n",
       "1  2015-01-27 13:08:24.0000003 2015-01-27 13:08:24+00:00        -73.986862   \n",
       "2  2011-10-08 11:53:44.0000002 2011-10-08 11:53:44+00:00        -73.982524   \n",
       "3  2012-12-01 21:12:12.0000002 2012-12-01 21:12:12+00:00        -73.981160   \n",
       "4  2012-12-01 21:12:12.0000003 2012-12-01 21:12:12+00:00        -73.966046   \n",
       "\n",
       "   pickup_latitude  dropoff_longitude  dropoff_latitude  passenger_count  \\\n",
       "0        40.763805         -73.981430         40.743835                1   \n",
       "1        40.719383         -73.998886         40.739201                1   \n",
       "2        40.751260         -73.979654         40.746139                1   \n",
       "3        40.767807         -73.990448         40.751635                1   \n",
       "4        40.789775         -73.988565         40.744427                1   \n",
       "\n",
       "   Year  Month  Date  Day of Week  Hour  \n",
       "0  2015      1    27            1    13  \n",
       "1  2015      1    27            1    13  \n",
       "2  2011     10     8            5    11  \n",
       "3  2012     12     1            5    21  \n",
       "4  2012     12     1            5    21  "
      ]
     },
     "execution_count": 11,
     "metadata": {},
     "output_type": "execute_result"
    }
   ],
   "source": [
    "testdf.head()"
   ]
  },
  {
   "cell_type": "code",
   "execution_count": 12,
   "metadata": {},
   "outputs": [],
   "source": [
    "testkey = testdf['key']"
   ]
  },
  {
   "cell_type": "code",
   "execution_count": 13,
   "metadata": {},
   "outputs": [],
   "source": [
    "testdf = testdf.drop('key',axis = 1)\n",
    "testdf = testdf.drop('pickup_datetime',axis = 1)\n",
    "traindf = traindf.drop('key',axis = 1)\n",
    "traindf = traindf.drop('pickup_datetime',axis = 1)"
   ]
  },
  {
   "cell_type": "code",
   "execution_count": 14,
   "metadata": {},
   "outputs": [],
   "source": [
    "traindf[\"lonig_dist\"] =  (traindf.dropoff_longitude - traindf.pickup_longitude).abs()\n",
    "traindf[\"latit_dist\"] =  (traindf.dropoff_latitude - traindf.pickup_latitude).abs()\n",
    "testdf[\"lonig_dist\"] =  (testdf.dropoff_longitude - testdf.pickup_longitude).abs()\n",
    "testdf[\"latit_dist\"] =  (testdf.dropoff_latitude - testdf.pickup_latitude).abs()"
   ]
  },
  {
   "cell_type": "code",
   "execution_count": 15,
   "metadata": {},
   "outputs": [
    {
     "data": {
      "text/html": [
       "<div>\n",
       "<style scoped>\n",
       "    .dataframe tbody tr th:only-of-type {\n",
       "        vertical-align: middle;\n",
       "    }\n",
       "\n",
       "    .dataframe tbody tr th {\n",
       "        vertical-align: top;\n",
       "    }\n",
       "\n",
       "    .dataframe thead th {\n",
       "        text-align: right;\n",
       "    }\n",
       "</style>\n",
       "<table border=\"1\" class=\"dataframe\">\n",
       "  <thead>\n",
       "    <tr style=\"text-align: right;\">\n",
       "      <th></th>\n",
       "      <th>pickup_longitude</th>\n",
       "      <th>pickup_latitude</th>\n",
       "      <th>dropoff_longitude</th>\n",
       "      <th>dropoff_latitude</th>\n",
       "      <th>passenger_count</th>\n",
       "      <th>Year</th>\n",
       "      <th>Month</th>\n",
       "      <th>Date</th>\n",
       "      <th>Day of Week</th>\n",
       "      <th>Hour</th>\n",
       "      <th>lonig_dist</th>\n",
       "      <th>latit_dist</th>\n",
       "    </tr>\n",
       "  </thead>\n",
       "  <tbody>\n",
       "    <tr>\n",
       "      <th>0</th>\n",
       "      <td>-73.973320</td>\n",
       "      <td>40.763805</td>\n",
       "      <td>-73.981430</td>\n",
       "      <td>40.743835</td>\n",
       "      <td>1</td>\n",
       "      <td>2015</td>\n",
       "      <td>1</td>\n",
       "      <td>27</td>\n",
       "      <td>1</td>\n",
       "      <td>13</td>\n",
       "      <td>0.008110</td>\n",
       "      <td>0.019970</td>\n",
       "    </tr>\n",
       "    <tr>\n",
       "      <th>1</th>\n",
       "      <td>-73.986862</td>\n",
       "      <td>40.719383</td>\n",
       "      <td>-73.998886</td>\n",
       "      <td>40.739201</td>\n",
       "      <td>1</td>\n",
       "      <td>2015</td>\n",
       "      <td>1</td>\n",
       "      <td>27</td>\n",
       "      <td>1</td>\n",
       "      <td>13</td>\n",
       "      <td>0.012024</td>\n",
       "      <td>0.019817</td>\n",
       "    </tr>\n",
       "    <tr>\n",
       "      <th>2</th>\n",
       "      <td>-73.982524</td>\n",
       "      <td>40.751260</td>\n",
       "      <td>-73.979654</td>\n",
       "      <td>40.746139</td>\n",
       "      <td>1</td>\n",
       "      <td>2011</td>\n",
       "      <td>10</td>\n",
       "      <td>8</td>\n",
       "      <td>5</td>\n",
       "      <td>11</td>\n",
       "      <td>0.002870</td>\n",
       "      <td>0.005121</td>\n",
       "    </tr>\n",
       "    <tr>\n",
       "      <th>3</th>\n",
       "      <td>-73.981160</td>\n",
       "      <td>40.767807</td>\n",
       "      <td>-73.990448</td>\n",
       "      <td>40.751635</td>\n",
       "      <td>1</td>\n",
       "      <td>2012</td>\n",
       "      <td>12</td>\n",
       "      <td>1</td>\n",
       "      <td>5</td>\n",
       "      <td>21</td>\n",
       "      <td>0.009288</td>\n",
       "      <td>0.016172</td>\n",
       "    </tr>\n",
       "    <tr>\n",
       "      <th>4</th>\n",
       "      <td>-73.966046</td>\n",
       "      <td>40.789775</td>\n",
       "      <td>-73.988565</td>\n",
       "      <td>40.744427</td>\n",
       "      <td>1</td>\n",
       "      <td>2012</td>\n",
       "      <td>12</td>\n",
       "      <td>1</td>\n",
       "      <td>5</td>\n",
       "      <td>21</td>\n",
       "      <td>0.022519</td>\n",
       "      <td>0.045348</td>\n",
       "    </tr>\n",
       "  </tbody>\n",
       "</table>\n",
       "</div>"
      ],
      "text/plain": [
       "   pickup_longitude  pickup_latitude  dropoff_longitude  dropoff_latitude  \\\n",
       "0        -73.973320        40.763805         -73.981430         40.743835   \n",
       "1        -73.986862        40.719383         -73.998886         40.739201   \n",
       "2        -73.982524        40.751260         -73.979654         40.746139   \n",
       "3        -73.981160        40.767807         -73.990448         40.751635   \n",
       "4        -73.966046        40.789775         -73.988565         40.744427   \n",
       "\n",
       "   passenger_count  Year  Month  Date  Day of Week  Hour  lonig_dist  \\\n",
       "0                1  2015      1    27            1    13    0.008110   \n",
       "1                1  2015      1    27            1    13    0.012024   \n",
       "2                1  2011     10     8            5    11    0.002870   \n",
       "3                1  2012     12     1            5    21    0.009288   \n",
       "4                1  2012     12     1            5    21    0.022519   \n",
       "\n",
       "   latit_dist  \n",
       "0    0.019970  \n",
       "1    0.019817  \n",
       "2    0.005121  \n",
       "3    0.016172  \n",
       "4    0.045348  "
      ]
     },
     "execution_count": 15,
     "metadata": {},
     "output_type": "execute_result"
    }
   ],
   "source": [
    "testdf.head()"
   ]
  },
  {
   "cell_type": "code",
   "execution_count": 16,
   "metadata": {},
   "outputs": [
    {
     "data": {
      "text/html": [
       "<div>\n",
       "<style scoped>\n",
       "    .dataframe tbody tr th:only-of-type {\n",
       "        vertical-align: middle;\n",
       "    }\n",
       "\n",
       "    .dataframe tbody tr th {\n",
       "        vertical-align: top;\n",
       "    }\n",
       "\n",
       "    .dataframe thead th {\n",
       "        text-align: right;\n",
       "    }\n",
       "</style>\n",
       "<table border=\"1\" class=\"dataframe\">\n",
       "  <thead>\n",
       "    <tr style=\"text-align: right;\">\n",
       "      <th></th>\n",
       "      <th>fare_amount</th>\n",
       "      <th>pickup_longitude</th>\n",
       "      <th>pickup_latitude</th>\n",
       "      <th>dropoff_longitude</th>\n",
       "      <th>dropoff_latitude</th>\n",
       "      <th>passenger_count</th>\n",
       "      <th>Year</th>\n",
       "      <th>Month</th>\n",
       "      <th>Date</th>\n",
       "      <th>Day of Week</th>\n",
       "      <th>Hour</th>\n",
       "      <th>lonig_dist</th>\n",
       "      <th>latit_dist</th>\n",
       "    </tr>\n",
       "  </thead>\n",
       "  <tbody>\n",
       "    <tr>\n",
       "      <th>0</th>\n",
       "      <td>4.5</td>\n",
       "      <td>-73.844311</td>\n",
       "      <td>40.721319</td>\n",
       "      <td>-73.841610</td>\n",
       "      <td>40.712278</td>\n",
       "      <td>1</td>\n",
       "      <td>2009</td>\n",
       "      <td>6</td>\n",
       "      <td>15</td>\n",
       "      <td>0</td>\n",
       "      <td>17</td>\n",
       "      <td>0.002701</td>\n",
       "      <td>0.009041</td>\n",
       "    </tr>\n",
       "    <tr>\n",
       "      <th>1</th>\n",
       "      <td>16.9</td>\n",
       "      <td>-74.016048</td>\n",
       "      <td>40.711303</td>\n",
       "      <td>-73.979268</td>\n",
       "      <td>40.782004</td>\n",
       "      <td>1</td>\n",
       "      <td>2010</td>\n",
       "      <td>1</td>\n",
       "      <td>5</td>\n",
       "      <td>1</td>\n",
       "      <td>16</td>\n",
       "      <td>0.036780</td>\n",
       "      <td>0.070701</td>\n",
       "    </tr>\n",
       "    <tr>\n",
       "      <th>2</th>\n",
       "      <td>5.7</td>\n",
       "      <td>-73.982738</td>\n",
       "      <td>40.761270</td>\n",
       "      <td>-73.991242</td>\n",
       "      <td>40.750562</td>\n",
       "      <td>2</td>\n",
       "      <td>2011</td>\n",
       "      <td>8</td>\n",
       "      <td>18</td>\n",
       "      <td>3</td>\n",
       "      <td>0</td>\n",
       "      <td>0.008504</td>\n",
       "      <td>0.010708</td>\n",
       "    </tr>\n",
       "    <tr>\n",
       "      <th>3</th>\n",
       "      <td>7.7</td>\n",
       "      <td>-73.987130</td>\n",
       "      <td>40.733143</td>\n",
       "      <td>-73.991567</td>\n",
       "      <td>40.758092</td>\n",
       "      <td>1</td>\n",
       "      <td>2012</td>\n",
       "      <td>4</td>\n",
       "      <td>21</td>\n",
       "      <td>5</td>\n",
       "      <td>4</td>\n",
       "      <td>0.004437</td>\n",
       "      <td>0.024949</td>\n",
       "    </tr>\n",
       "    <tr>\n",
       "      <th>4</th>\n",
       "      <td>5.3</td>\n",
       "      <td>-73.968095</td>\n",
       "      <td>40.768008</td>\n",
       "      <td>-73.956655</td>\n",
       "      <td>40.783762</td>\n",
       "      <td>1</td>\n",
       "      <td>2010</td>\n",
       "      <td>3</td>\n",
       "      <td>9</td>\n",
       "      <td>1</td>\n",
       "      <td>7</td>\n",
       "      <td>0.011440</td>\n",
       "      <td>0.015754</td>\n",
       "    </tr>\n",
       "  </tbody>\n",
       "</table>\n",
       "</div>"
      ],
      "text/plain": [
       "   fare_amount  pickup_longitude  pickup_latitude  dropoff_longitude  \\\n",
       "0          4.5        -73.844311        40.721319         -73.841610   \n",
       "1         16.9        -74.016048        40.711303         -73.979268   \n",
       "2          5.7        -73.982738        40.761270         -73.991242   \n",
       "3          7.7        -73.987130        40.733143         -73.991567   \n",
       "4          5.3        -73.968095        40.768008         -73.956655   \n",
       "\n",
       "   dropoff_latitude  passenger_count  Year  Month  Date  Day of Week  Hour  \\\n",
       "0         40.712278                1  2009      6    15            0    17   \n",
       "1         40.782004                1  2010      1     5            1    16   \n",
       "2         40.750562                2  2011      8    18            3     0   \n",
       "3         40.758092                1  2012      4    21            5     4   \n",
       "4         40.783762                1  2010      3     9            1     7   \n",
       "\n",
       "   lonig_dist  latit_dist  \n",
       "0    0.002701    0.009041  \n",
       "1    0.036780    0.070701  \n",
       "2    0.008504    0.010708  \n",
       "3    0.004437    0.024949  \n",
       "4    0.011440    0.015754  "
      ]
     },
     "execution_count": 16,
     "metadata": {},
     "output_type": "execute_result"
    }
   ],
   "source": [
    "traindf.head()"
   ]
  },
  {
   "cell_type": "code",
   "execution_count": 17,
   "metadata": {},
   "outputs": [],
   "source": [
    "trainlables = traindf['fare_amount']"
   ]
  },
  {
   "cell_type": "code",
   "execution_count": 18,
   "metadata": {},
   "outputs": [],
   "source": [
    "traindf = traindf.drop('fare_amount',axis =1 )"
   ]
  },
  {
   "cell_type": "code",
   "execution_count": 19,
   "metadata": {},
   "outputs": [
    {
     "data": {
      "text/html": [
       "<div>\n",
       "<style scoped>\n",
       "    .dataframe tbody tr th:only-of-type {\n",
       "        vertical-align: middle;\n",
       "    }\n",
       "\n",
       "    .dataframe tbody tr th {\n",
       "        vertical-align: top;\n",
       "    }\n",
       "\n",
       "    .dataframe thead th {\n",
       "        text-align: right;\n",
       "    }\n",
       "</style>\n",
       "<table border=\"1\" class=\"dataframe\">\n",
       "  <thead>\n",
       "    <tr style=\"text-align: right;\">\n",
       "      <th></th>\n",
       "      <th>pickup_longitude</th>\n",
       "      <th>pickup_latitude</th>\n",
       "      <th>dropoff_longitude</th>\n",
       "      <th>dropoff_latitude</th>\n",
       "      <th>passenger_count</th>\n",
       "      <th>Year</th>\n",
       "      <th>Month</th>\n",
       "      <th>Date</th>\n",
       "      <th>Day of Week</th>\n",
       "      <th>Hour</th>\n",
       "      <th>lonig_dist</th>\n",
       "      <th>latit_dist</th>\n",
       "    </tr>\n",
       "  </thead>\n",
       "  <tbody>\n",
       "    <tr>\n",
       "      <th>0</th>\n",
       "      <td>-73.844311</td>\n",
       "      <td>40.721319</td>\n",
       "      <td>-73.841610</td>\n",
       "      <td>40.712278</td>\n",
       "      <td>1</td>\n",
       "      <td>2009</td>\n",
       "      <td>6</td>\n",
       "      <td>15</td>\n",
       "      <td>0</td>\n",
       "      <td>17</td>\n",
       "      <td>0.002701</td>\n",
       "      <td>0.009041</td>\n",
       "    </tr>\n",
       "    <tr>\n",
       "      <th>1</th>\n",
       "      <td>-74.016048</td>\n",
       "      <td>40.711303</td>\n",
       "      <td>-73.979268</td>\n",
       "      <td>40.782004</td>\n",
       "      <td>1</td>\n",
       "      <td>2010</td>\n",
       "      <td>1</td>\n",
       "      <td>5</td>\n",
       "      <td>1</td>\n",
       "      <td>16</td>\n",
       "      <td>0.036780</td>\n",
       "      <td>0.070701</td>\n",
       "    </tr>\n",
       "    <tr>\n",
       "      <th>2</th>\n",
       "      <td>-73.982738</td>\n",
       "      <td>40.761270</td>\n",
       "      <td>-73.991242</td>\n",
       "      <td>40.750562</td>\n",
       "      <td>2</td>\n",
       "      <td>2011</td>\n",
       "      <td>8</td>\n",
       "      <td>18</td>\n",
       "      <td>3</td>\n",
       "      <td>0</td>\n",
       "      <td>0.008504</td>\n",
       "      <td>0.010708</td>\n",
       "    </tr>\n",
       "    <tr>\n",
       "      <th>3</th>\n",
       "      <td>-73.987130</td>\n",
       "      <td>40.733143</td>\n",
       "      <td>-73.991567</td>\n",
       "      <td>40.758092</td>\n",
       "      <td>1</td>\n",
       "      <td>2012</td>\n",
       "      <td>4</td>\n",
       "      <td>21</td>\n",
       "      <td>5</td>\n",
       "      <td>4</td>\n",
       "      <td>0.004437</td>\n",
       "      <td>0.024949</td>\n",
       "    </tr>\n",
       "    <tr>\n",
       "      <th>4</th>\n",
       "      <td>-73.968095</td>\n",
       "      <td>40.768008</td>\n",
       "      <td>-73.956655</td>\n",
       "      <td>40.783762</td>\n",
       "      <td>1</td>\n",
       "      <td>2010</td>\n",
       "      <td>3</td>\n",
       "      <td>9</td>\n",
       "      <td>1</td>\n",
       "      <td>7</td>\n",
       "      <td>0.011440</td>\n",
       "      <td>0.015754</td>\n",
       "    </tr>\n",
       "  </tbody>\n",
       "</table>\n",
       "</div>"
      ],
      "text/plain": [
       "   pickup_longitude  pickup_latitude  dropoff_longitude  dropoff_latitude  \\\n",
       "0        -73.844311        40.721319         -73.841610         40.712278   \n",
       "1        -74.016048        40.711303         -73.979268         40.782004   \n",
       "2        -73.982738        40.761270         -73.991242         40.750562   \n",
       "3        -73.987130        40.733143         -73.991567         40.758092   \n",
       "4        -73.968095        40.768008         -73.956655         40.783762   \n",
       "\n",
       "   passenger_count  Year  Month  Date  Day of Week  Hour  lonig_dist  \\\n",
       "0                1  2009      6    15            0    17    0.002701   \n",
       "1                1  2010      1     5            1    16    0.036780   \n",
       "2                2  2011      8    18            3     0    0.008504   \n",
       "3                1  2012      4    21            5     4    0.004437   \n",
       "4                1  2010      3     9            1     7    0.011440   \n",
       "\n",
       "   latit_dist  \n",
       "0    0.009041  \n",
       "1    0.070701  \n",
       "2    0.010708  \n",
       "3    0.024949  \n",
       "4    0.015754  "
      ]
     },
     "execution_count": 19,
     "metadata": {},
     "output_type": "execute_result"
    }
   ],
   "source": [
    "traindf.head()"
   ]
  },
  {
   "cell_type": "code",
   "execution_count": 20,
   "metadata": {},
   "outputs": [],
   "source": [
    "trainFeatures = np.array(traindf)\n",
    "trainLables = np.array(trainlables)\n",
    "testFeatures = np.array(testdf)"
   ]
  },
  {
   "cell_type": "code",
   "execution_count": 21,
   "metadata": {},
   "outputs": [
    {
     "data": {
      "text/plain": [
       "StandardScaler(copy=True, with_mean=True, with_std=True)"
      ]
     },
     "execution_count": 21,
     "metadata": {},
     "output_type": "execute_result"
    }
   ],
   "source": [
    "scaler = StandardScaler()\n",
    "scaler.fit(trainFeatures)\n"
   ]
  },
  {
   "cell_type": "code",
   "execution_count": 22,
   "metadata": {},
   "outputs": [
    {
     "name": "stdout",
     "output_type": "stream",
     "text": [
      "[[-0.12873612  0.13152444 -0.12836599 ...  0.53547463 -0.05001452\n",
      "  -0.04929215]\n",
      " [-0.14515962  0.12988629 -0.14154643 ...  0.3820144  -0.03944229\n",
      "  -0.01336979]\n",
      " [-0.14197413  0.13805858 -0.14269292 ... -2.07334938 -0.04821427\n",
      "  -0.04832098]\n",
      " ...\n",
      " [-0.14181395  0.13852553 -0.14154557 ...  1.45623605 -0.05029279\n",
      "  -0.04422888]\n",
      " [-0.14031613  0.13771022 -0.14083959 ...  0.8423951  -0.04884062\n",
      "  -0.04974118]\n",
      " [-0.14100414  0.1350994  -0.14025882 ... -0.84566749 -0.04875065\n",
      "  -0.04801396]]\n"
     ]
    }
   ],
   "source": [
    "trainFeatures = scaler.transform(trainFeatures)\n",
    "print(trainFeatures)"
   ]
  },
  {
   "cell_type": "code",
   "execution_count": 23,
   "metadata": {},
   "outputs": [],
   "source": [
    "testFeatures = scaler.transform(testFeatures)"
   ]
  },
  {
   "cell_type": "code",
   "execution_count": 24,
   "metadata": {},
   "outputs": [
    {
     "name": "stdout",
     "output_type": "stream",
     "text": [
      "['2015-01-27 13:08:24.0000002' '2015-01-27 13:08:24.0000003'\n",
      " '2011-10-08 11:53:44.0000002' ... '2015-04-19 20:44:15.0000001'\n",
      " '2015-01-31 01:05:19.0000005' '2015-01-18 14:06:23.0000006']\n"
     ]
    }
   ],
   "source": [
    "testkey = np.array(testkey)\n",
    "print(testkey)"
   ]
  },
  {
   "cell_type": "code",
   "execution_count": 25,
   "metadata": {},
   "outputs": [],
   "source": [
    "trainFeatures =np.delete(trainFeatures, 8, 1)\n",
    "testFeatures =np.delete(testFeatures, 8, 1)\n",
    "trainFeatures =np.delete(trainFeatures, 7, 1)\n",
    "testFeatures =np.delete(testFeatures, 7, 1)"
   ]
  },
  {
   "cell_type": "raw",
   "metadata": {},
   "source": [
    "The top 2 scores I got are:\n",
    "1)Random Forest Regressor: 3.37778\n",
    "2)Gradient Boosting Regressor : 3.50074\n",
    "\n",
    "Gradient Boosting Regressor: Taken from sklearn documentation: It builds an additive model in a forward stage-wise fashion; it allows for the optimization of arbitrary differentiable loss functions. In each stage a regression tree is fit on the negative gradient of the given loss function.\n",
    "The features are always randomly permuted at each split. Therefore, the best found split may vary, even with the same training data and max_features=n_features, if the improvement of the criterion is identical for several splits enumerated during the search of the best split. Boosting is based on weak learners.\n",
    "\n",
    "Random Forest Regressor: Taken from sklearn documentation: A random forest is a meta estimator that fits a number of classifying decision trees on various sub-samples of the dataset and uses averaging to improve the predictive accuracy and control over-fitting. The sub-sample size is always the same as the original input sample size but the samples are drawn with replacement. Based on fully grown decision trees \n",
    "\n",
    "Linear regression doesnt seems to work as the data can not be classified using linear boundaries.in\n",
    "Ensemble methods seems to work much better as they are able to model the complex structures in the data.\n",
    "They are a combination of many individual classifiers so they seem to generalise better. But they \n",
    "take more time to compare than linear regressor.\n",
    "\n",
    "error = bias + variance + noise\n",
    "\n",
    "Boosting reduces error mainly by reducing bias (and also to some extent variance, by aggregating the output from many models).\n",
    "Random forests tackles the error reduction task in the opposite way: by reducing variance. Random forest seems to work better as there seems to be more error because of variance and hence they perform better. Bagging seems to work better than boosting here.\n",
    "\n",
    "\n",
    "\n"
   ]
  },
  {
   "cell_type": "code",
   "execution_count": 26,
   "metadata": {},
   "outputs": [],
   "source": [
    "\n",
    "#OLS 9.32658\n",
    "from sklearn.linear_model import LinearRegression\n",
    "reg = LinearRegression().fit(trainFeatures, trainLables)\n",
    "ans = reg.predict(testFeatures)\n",
    "\n",
    "f = open(\"resultOLS1.csv\", \"w\")\n",
    "f.write(\"key,fare_amount\\n\")\n",
    "for i in range(len(testkey)):\n",
    "    f.write(\"%s,%s\\n\" % (testkey[i],ans[i]))\n",
    "f.close()\n",
    "    "
   ]
  },
  {
   "cell_type": "code",
   "execution_count": 113,
   "metadata": {},
   "outputs": [],
   "source": [
    "#ridge 9.32823\n",
    "from sklearn.linear_model import Ridge\n",
    "\n",
    "reg = Ridge(tol = .00001).fit(trainFeatures, trainLables)\n",
    "ans = reg.predict(testFeatures)\n",
    "\n",
    "f = open(\"resultRidge1.csv\", \"w\")\n",
    "f.write(\"key,fare_amount\\n\")\n",
    "for i in range(len(testkey)):\n",
    "    f.write(\"%s,%s\\n\" % (testkey[i],ans[i]))\n",
    "f.close()\n",
    "    \n"
   ]
  },
  {
   "cell_type": "code",
   "execution_count": 29,
   "metadata": {},
   "outputs": [],
   "source": [
    "#lasso 9.33031\n",
    "from sklearn import linear_model\n",
    "\n",
    "reg = linear_model.Lasso(alpha=0.1).fit(trainFeatures, trainLables)\n",
    "ans = reg.predict(testFeatures)\n",
    "\n",
    "f = open(\"resultLasso.csv\", \"w\")\n",
    "f.write(\"key,fare_amount\\n\")\n",
    "for i in range(len(testkey)):\n",
    "    f.write(\"%s,%s\\n\" % (testkey[i],ans[i]))\n",
    "f.close()"
   ]
  },
  {
   "cell_type": "code",
   "execution_count": 69,
   "metadata": {},
   "outputs": [],
   "source": [
    "#ElasticNet 9.36910\n",
    "from sklearn.linear_model import ElasticNet\n",
    "reg = ElasticNet(random_state=0).fit(trainFeatures, trainLables)\n",
    "ans = reg.predict(testFeatures)\n",
    "\n",
    "f = open(\"resultElasticNet.csv\", \"w\")\n",
    "f.write(\"key,fare_amount\\n\")\n",
    "for i in range(len(testkey)):\n",
    "    f.write(\"%s,%s\\n\" % (testkey[i],ans[i]))\n",
    "f.close()"
   ]
  },
  {
   "cell_type": "code",
   "execution_count": 70,
   "metadata": {},
   "outputs": [],
   "source": [
    "# BayesianRidge 9.32835\n",
    "from sklearn import linear_model\n",
    "reg = linear_model.BayesianRidge().fit(trainFeatures, trainLables)\n",
    "ans = reg.predict(testFeatures)\n",
    "\n",
    "f = open(\"resultBayes.csv\", \"w\")\n",
    "f.write(\"key,fare_amount\\n\")\n",
    "for i in range(len(testkey)):\n",
    "    f.write(\"%s,%s\\n\" % (testkey[i],ans[i]))\n",
    "f.close()"
   ]
  },
  {
   "cell_type": "markdown",
   "metadata": {},
   "source": [
    "# Code for  best submission"
   ]
  },
  {
   "cell_type": "code",
   "execution_count": 117,
   "metadata": {},
   "outputs": [],
   "source": [
    "# RandomForestRegressor 3.37778\n",
    "from sklearn.ensemble import RandomForestRegressor\n",
    "reg = RandomForestRegressor(n_estimators = 10, n_jobs = -1).fit(trainFeatures, trainLables)\n",
    "ans = reg.predict(testFeatures)\n",
    "\n",
    "f = open(\"resultRFR.csv\", \"w\")\n",
    "f.write(\"key,fare_amount\\n\")\n",
    "for i in range(len(testkey)):\n",
    "    f.write(\"%s,%s\\n\" % (testkey[i],ans[i]))\n",
    "f.close()"
   ]
  },
  {
   "cell_type": "code",
   "execution_count": 121,
   "metadata": {},
   "outputs": [],
   "source": [
    "# AdaBoostRegressor linear 5.16535\n",
    "from sklearn.ensemble import AdaBoostRegressor\n",
    "reg = AdaBoostRegressor(n_estimators = 50,loss= 'linear').fit(trainFeatures, trainLables)\n",
    "ans = reg.predict(testFeatures)\n",
    "\n",
    "f = open(\"resultAdaBLin.csv\", \"w\")\n",
    "f.write(\"key,fare_amount\\n\")\n",
    "for i in range(len(testkey)):\n",
    "    f.write(\"%s,%s\\n\" % (testkey[i],ans[i]))\n",
    "f.close()"
   ]
  },
  {
   "cell_type": "code",
   "execution_count": 122,
   "metadata": {},
   "outputs": [],
   "source": [
    "# AdaBoostRegressor square 4.87054\n",
    "from sklearn.ensemble import AdaBoostRegressor\n",
    "reg = AdaBoostRegressor(n_estimators = 50,loss= 'square').fit(trainFeatures, trainLables)\n",
    "ans = reg.predict(testFeatures)\n",
    "\n",
    "f = open(\"resultAdaBSquare.csv\", \"w\")\n",
    "f.write(\"key,fare_amount\\n\")\n",
    "for i in range(len(testkey)):\n",
    "    f.write(\"%s,%s\\n\" % (testkey[i],ans[i]))\n",
    "f.close()"
   ]
  },
  {
   "cell_type": "code",
   "execution_count": 123,
   "metadata": {},
   "outputs": [],
   "source": [
    "# AdaBoostRegressor exp 4.97820\n",
    "from sklearn.ensemble import AdaBoostRegressor\n",
    "reg = AdaBoostRegressor(n_estimators = 50,loss= 'exponential').fit(trainFeatures, trainLables)\n",
    "ans = reg.predict(testFeatures)\n",
    "\n",
    "f = open(\"resultAdaBExponential.csv\", \"w\")\n",
    "f.write(\"key,fare_amount\\n\")\n",
    "for i in range(len(testkey)):\n",
    "    f.write(\"%s,%s\\n\" % (testkey[i],ans[i]))\n",
    "f.close()"
   ]
  },
  {
   "cell_type": "markdown",
   "metadata": {},
   "source": [
    "# Code for 2nd best submission"
   ]
  },
  {
   "cell_type": "code",
   "execution_count": 124,
   "metadata": {},
   "outputs": [],
   "source": [
    "# GradientBoostingRegressor 3.50074\n",
    "from sklearn.ensemble import GradientBoostingRegressor\n",
    "reg = GradientBoostingRegressor().fit(trainFeatures, trainLables)\n",
    "ans = reg.predict(testFeatures)\n",
    "\n",
    "f = open(\"resultGradientBoostingRegressor.csv\", \"w\")\n",
    "f.write(\"key,fare_amount\\n\")\n",
    "for i in range(len(testkey)):\n",
    "    f.write(\"%s,%s\\n\" % (testkey[i],ans[i]))\n",
    "f.close()"
   ]
  },
  {
   "cell_type": "code",
   "execution_count": 126,
   "metadata": {},
   "outputs": [
    {
     "name": "stdout",
     "output_type": "stream",
     "text": [
      "[21:49:40] WARNING: src/objective/regression_obj.cu:152: reg:linear is now deprecated in favor of reg:squarederror.\n",
      "[21:49:40] WARNING: src/learner.cc:686: Tree method is automatically selected to be 'approx' for faster speed. To use old behavior (exact greedy algorithm on single machine), set tree_method to 'exact'.\n"
     ]
    }
   ],
   "source": [
    "# xgboost 3.68642\n",
    "import xgboost as xgb\n",
    "reg = xgb.XGBRegressor(n_jobs = -1).fit(trainFeatures, trainLables)\n",
    "ans = reg.predict(testFeatures)\n",
    "\n",
    "f = open(\"resultXGB.csv\", \"w\")\n",
    "f.write(\"key,fare_amount\\n\")\n",
    "for i in range(len(testkey)):\n",
    "    f.write(\"%s,%s\\n\" % (testkey[i],ans[i]))\n",
    "f.close()"
   ]
  }
 ],
 "metadata": {
  "kernelspec": {
   "display_name": "Python 3",
   "language": "python",
   "name": "python3"
  },
  "language_info": {
   "codemirror_mode": {
    "name": "ipython",
    "version": 3
   },
   "file_extension": ".py",
   "mimetype": "text/x-python",
   "name": "python",
   "nbconvert_exporter": "python",
   "pygments_lexer": "ipython3",
   "version": "3.6.7"
  }
 },
 "nbformat": 4,
 "nbformat_minor": 2
}
