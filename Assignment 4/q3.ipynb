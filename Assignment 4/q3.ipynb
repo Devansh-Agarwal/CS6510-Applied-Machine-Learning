{
 "cells": [
  {
   "cell_type": "code",
   "execution_count": 1,
   "metadata": {},
   "outputs": [],
   "source": [
    "import numpy as np\n",
    "import csv\n",
    "import matplotlib.pyplot as plt\n"
   ]
  },
  {
   "cell_type": "code",
   "execution_count": 2,
   "metadata": {},
   "outputs": [],
   "source": [
    "with open(\"dataset1.txt\") as f:\n",
    "#         next(f, None)\n",
    "        data = [line for line in csv.reader(f, delimiter=\" \",quoting=csv.QUOTE_NONNUMERIC)]\n",
    "    "
   ]
  },
  {
   "cell_type": "code",
   "execution_count": 3,
   "metadata": {},
   "outputs": [],
   "source": [
    "data = np.array(data)"
   ]
  },
  {
   "cell_type": "markdown",
   "metadata": {},
   "source": [
    "Part a) There are 2 clusters in dataset 1"
   ]
  },
  {
   "cell_type": "code",
   "execution_count": 4,
   "metadata": {},
   "outputs": [
    {
     "name": "stdout",
     "output_type": "stream",
     "text": [
      "[0 1 0 1 0 0 0 1 0 1 0 0 1 0 1 1 1 0 0 0 0 0 1 0 1 1 1 0 0 1 1 1 0 1 0 0 1\n",
      " 1 0 0 1 0 0 0 0 0 0 1 1 1 0 0 1 1 0 1 1 0 0 0 0 1 0 0 1 1 1 1 1 1 1 1 0 0\n",
      " 1 1 0 0 0 1 0 0 0 1 0 0 1 1 0 0 1 0 1 1 1 1 0 1 0 1 0 0 0 0 0 1 0 0 1 1 0\n",
      " 1 1 1 1 1 1 1 1 0 0 0 1 0 1 0 0 1 0 1 0 1 1 0 0 0 1 1 0 1 0 1 1 1 0 1 0 1\n",
      " 1 0 1 1 1 0 1 1 0 0 0 1 0 1 0 1 0 1 0 1 0 1 1 0 0 0 1 1 0 1 1 0 0 0 0 0 0\n",
      " 0 0 1 0 1 1 0 1 0 1 1 1 1 0 1 0 0 1 0 1 1 1 1 1 0 1 1 0 0 0 1 1 1 0 1 1 0\n",
      " 1 0 1 0 0 1 0 0 0 0 1 1 0 0 1 0 0 1 0 1 1 1 1 0 0 1 0 1 1 0 0 0 1 0 0 0 1\n",
      " 0 1 1 0 1 0 0 0 0 1 0 0 1 0 0 0 1 0 0 0 1 0 1 0 1 1 0 0 0 0 1 0 0 1 0 0 1\n",
      " 1 0 1 0 0 0 0 1 1 1 1 0 1 0 1 1 1 0 1 1 0 1 1 1 1 0 0 0 0 0 0 1 0 0 1 1 0\n",
      " 0 1 1 1 1 0 0 0 1 1 1 0 1 0 0 0 1 0 1 0 1 1 0 0 1 0 1 0 0 1 0 0 0 1 0 1 0\n",
      " 1 1 0 1 0 0 0 1 0 0 0 0 0 1 0 1 1 0 1 0 1 0 1 0 0 1 0 0 0 1 0 1 1 1 0 1 0\n",
      " 1 1 0 0 1 0 1 0 0 1 1 1 0 1 1 1 0 0 0 0 1 0 1 1 1 0 0 1 1 1 1 1 1 1 1 0 0\n",
      " 1 0 0 0 1 0 1 1 1 1 0 0 0 1 1 0 0 1 1 1 1 1 1 1 1 0 1 0 1 0 0 0 0 1 0 1 1\n",
      " 1 0 0 1 1 1 1 0 0 1 1 1 1 1 1 1 0 1 0]\n",
      "[[ 1.19814258 -0.07346966]\n",
      " [-0.20375016  0.57606781]]\n"
     ]
    }
   ],
   "source": [
    "from sklearn.cluster import KMeans\n",
    "kmeans = KMeans(n_clusters=2, random_state=0).fit(data)\n",
    "print(kmeans.labels_)\n",
    "print(kmeans.cluster_centers_)"
   ]
  },
  {
   "cell_type": "code",
   "execution_count": 5,
   "metadata": {},
   "outputs": [],
   "source": [
    "y = kmeans.predict(data)"
   ]
  },
  {
   "cell_type": "code",
   "execution_count": 6,
   "metadata": {},
   "outputs": [
    {
     "data": {
      "text/plain": [
       "(500,)"
      ]
     },
     "execution_count": 6,
     "metadata": {},
     "output_type": "execute_result"
    }
   ],
   "source": [
    "y.shape"
   ]
  },
  {
   "cell_type": "code",
   "execution_count": 7,
   "metadata": {},
   "outputs": [
    {
     "data": {
      "text/plain": [
       "<matplotlib.collections.PathCollection at 0x7fa814c10518>"
      ]
     },
     "execution_count": 7,
     "metadata": {},
     "output_type": "execute_result"
    },
    {
     "data": {
      "image/png": "[encoded data removed]",
      "text/plain": [
       "<Figure size 432x288 with 1 Axes>"
      ]
     },
     "metadata": {
      "needs_background": "light"
     },
     "output_type": "display_data"
    }
   ],
   "source": [
    "plt.scatter(data[:,0],data[:,1], c = y)"
   ]
  },
  {
   "cell_type": "markdown",
   "metadata": {},
   "source": [
    "Part b) Implemented db scan and used it on dataset1\n"
   ]
  },
  {
   "cell_type": "code",
   "execution_count": 8,
   "metadata": {},
   "outputs": [],
   "source": [
    "def dbscan(data,minpts, eps ):\n",
    "    c=0\n",
    "    lableOfCluster = np.zeros(data.shape[0]) # initialise lable array\n",
    "    for p in range(data.shape[0]):\n",
    "        if(lableOfCluster[p] != 0): # if already labled\n",
    "            continue\n",
    "        neighbours = []\n",
    "        for neighPoint in range(data.shape[0]):#finding neighbours\n",
    "            dist = np.linalg.norm(data[p] - data[neighPoint]) # calculating distance\n",
    "            if(dist < eps):\n",
    "                neighbours.append(neighPoint)\n",
    "        if(len(neighbours) >= minpts):# growing the cluster size\n",
    "            i = 0\n",
    "            c +=1\n",
    "            queue = [p]\n",
    "            lableOfCluster[p] =  c\n",
    "            while i < len(queue):\n",
    "                p  = queue[i]\n",
    "                neighbours = []\n",
    "                for neighPoint in range(data.shape[0]):\n",
    "                    dist = np.linalg.norm(data[p] - data[neighPoint]) # calculating distance\n",
    "                    if(dist < eps):\n",
    "                        neighbours.append(neighPoint)\n",
    "                if(len(neighbours) < minpts):\n",
    "                    i += 1\n",
    "                    continue\n",
    "                for neighPoint in neighbours:\n",
    "                    if lableOfCluster[neighPoint] == 0: # assigning new lable\n",
    "                        lableOfCluster[neighPoint] = c\n",
    "                        queue.append(neighPoint)\n",
    "                    if(lableOfCluster[neighPoint] == -1): # assigning new lable\n",
    "                        lableOfCluster[neighPoint] = c\n",
    "                i+=1\n",
    "        if(len(neighbours) < minpts):\n",
    "            lableOfCluster[p] = -1\n",
    "\n",
    "    return lableOfCluster            "
   ]
  },
  {
   "cell_type": "code",
   "execution_count": 9,
   "metadata": {},
   "outputs": [],
   "source": [
    "n  = dbscan(data,  3, .05)"
   ]
  },
  {
   "cell_type": "code",
   "execution_count": 10,
   "metadata": {},
   "outputs": [
    {
     "data": {
      "text/plain": [
       "array([1., 2., 1., 2., 1., 1., 2., 2., 2., 1., 1., 1., 2., 1., 2., 2., 2.,\n",
       "       1., 2., 2., 1., 2., 2., 1., 1., 2., 2., 1., 1., 2., 2., 2., 1., 1.,\n",
       "       1., 1., 1., 2., 1., 1., 2., 1., 1., 2., 1., 2., 1., 2., 2., 2., 1.,\n",
       "       2., 2., 1., 1., 2., 2., 2., 2., 2., 2., 1., 2., 2., 1., 2., 2., 1.,\n",
       "       1., 2., 2., 1., 1., 1., 2., 2., 2., 1., 1., 2., 1., 2., 1., 2., 1.,\n",
       "       1., 2., 1., 1., 2., 1., 1., 2., 2., 1., 1., 1., 2., 1., 1., 1., 1.,\n",
       "       2., 1., 1., 2., 1., 1., 1., 2., 1., 2., 2., 2., 2., 2., 2., 1., 2.,\n",
       "       1., 1., 1., 1., 1., 2., 1., 1., 2., 2., 2., 2., 2., 2., 2., 1., 1.,\n",
       "       2., 2., 1., 2., 1., 2., 2., 2., 1., 1., 1., 1., 2., 1., 2., 1., 1.,\n",
       "       1., 2., 2., 1., 1., 1., 2., 1., 2., 1., 1., 2., 2., 2., 1., 2., 2.,\n",
       "       2., 2., 1., 1., 2., 2., 1., 1., 1., 1., 1., 1., 2., 1., 1., 1., 1.,\n",
       "       2., 2., 2., 2., 1., 2., 1., 1., 2., 2., 2., 2., 2., 2., 2., 1., 1.,\n",
       "       1., 2., 2., 2., 1., 2., 2., 2., 1., 1., 1., 2., 2., 1., 2., 2., 2.,\n",
       "       1., 2., 1., 1., 1., 1., 2., 1., 1., 1., 1., 1., 2., 1., 1., 2., 1.,\n",
       "       1., 2., 1., 2., 2., 2., 1., 1., 1., 2., 1., 2., 1., 2., 1., 2., 2.,\n",
       "       1., 1., 1., 2., 2., 1., 1., 1., 2., 2., 1., 1., 1., 1., 2., 1., 1.,\n",
       "       2., 2., 2., 2., 1., 1., 1., 2., 1., 2., 1., 2., 1., 2., 1., 1., 1.,\n",
       "       2., 1., 1., 2., 2., 1., 2., 2., 1., 2., 2., 1., 1., 2., 2., 1., 2.,\n",
       "       2., 1., 2., 1., 2., 2., 2., 1., 2., 2., 1., 1., 1., 2., 2., 1., 1.,\n",
       "       2., 1., 2., 1., 2., 2., 1., 1., 2., 2., 1., 2., 2., 1., 2., 1., 1.,\n",
       "       1., 2., 2., 2., 2., 2., 1., 1., 1., 2., 1., 2., 1., 2., 2., 1., 1.,\n",
       "       2., 1., 2., 1., 2., 2., 2., 1., 2., 2., 1., 2., 1., 2., 2., 2., 2.,\n",
       "       2., 1., 1., 2., 2., 2., 1., 2., 1., 2., 1., 1., 1., 1., 2., 1., 2.,\n",
       "       1., 2., 1., 1., 2., 1., 1., 1., 1., 1., 2., 1., 2., 1., 2., 1., 1.,\n",
       "       1., 1., 1., 2., 1., 1., 1., 1., 1., 2., 2., 1., 2., 2., 2., 1., 2.,\n",
       "       1., 1., 1., 1., 1., 2., 2., 1., 1., 2., 2., 2., 2., 2., 1., 2., 2.,\n",
       "       1., 2., 2., 1., 1., 1., 2., 1., 2., 2., 1., 2., 2., 1., 2., 2., 2.,\n",
       "       1., 1., 2., 2., 2., 2., 1., 2., 2., 2., 1., 2., 1., 2., 1., 1., 1.,\n",
       "       2., 2., 1., 2., 2., 2., 1., 1., 1., 1., 2., 2., 1., 1., 1., 2., 2.,\n",
       "       2., 2., 1., 2., 1., 2., 2.])"
      ]
     },
     "execution_count": 10,
     "metadata": {},
     "output_type": "execute_result"
    }
   ],
   "source": [
    "n"
   ]
  },
  {
   "cell_type": "code",
   "execution_count": 11,
   "metadata": {},
   "outputs": [
    {
     "data": {
      "text/plain": [
       "<matplotlib.collections.PathCollection at 0x7fa811337518>"
      ]
     },
     "execution_count": 11,
     "metadata": {},
     "output_type": "execute_result"
    },
    {
     "data": {
      "image/png": "[encoded data removed]",
      "text/plain": [
       "<Figure size 432x288 with 1 Axes>"
      ]
     },
     "metadata": {
      "needs_background": "light"
     },
     "output_type": "display_data"
    }
   ],
   "source": [
    "plt.scatter(data[:,0],data[:,1], c = n)"
   ]
  },
  {
   "cell_type": "markdown",
   "metadata": {},
   "source": [
    "part c) Kmeans is not able to correctly cluster but dbscan is able to cluster properly. It is so as kmeans assigns clusters based on the distance from centroid and dbscan does it based on reachability from points."
   ]
  },
  {
   "cell_type": "markdown",
   "metadata": {},
   "source": [
    "part d) Observations:<br>\n",
    "1) Kmeans is able to detect 3 clusters, it marks the outliers as 1 cluster, and combines 2 of the proper clusters as 1. In total it gives 3 clusters.<br>\n",
    "2) Dbscan is able to detect all the 3 clusters and it assigns the outliers as another cluster. So in total 4 clusters.<br>\n",
    "Pros and cons: <br>\n",
    "Parameter tuning needed to be done for dbscan but kmeans can be used directly.<br>\n",
    "Dbscan was able to properly cluster but kmeans was not able to .<br>\n",
    "Dbscan takes more time to run that kmeans.<br>\n",
    "Dbscan doesn't works well over clusters with different densities."
   ]
  },
  {
   "cell_type": "code",
   "execution_count": 12,
   "metadata": {},
   "outputs": [],
   "source": [
    "with open(\"dataset2.txt\") as f:\n",
    "#         next(f, None)\n",
    "        data2 = [line for line in csv.reader(f, delimiter=\" \",quoting=csv.QUOTE_NONNUMERIC)]\n",
    "    "
   ]
  },
  {
   "cell_type": "code",
   "execution_count": 13,
   "metadata": {},
   "outputs": [],
   "source": [
    "data2 = np.array(data2)"
   ]
  },
  {
   "cell_type": "code",
   "execution_count": 14,
   "metadata": {},
   "outputs": [
    {
     "data": {
      "text/plain": [
       "<matplotlib.collections.PathCollection at 0x7fa811323f60>"
      ]
     },
     "execution_count": 14,
     "metadata": {},
     "output_type": "execute_result"
    },
    {
     "data": {
      "image/png": "[encoded data removed]",
      "text/plain": [
       "<Figure size 432x288 with 1 Axes>"
      ]
     },
     "metadata": {
      "needs_background": "light"
     },
     "output_type": "display_data"
    }
   ],
   "source": [
    "kmeans = KMeans(n_clusters=3, random_state=0).fit(data2)\n",
    "y = kmeans.predict(data2)\n",
    "plt.scatter(data2[:,0],data2[:,1], c = y)"
   ]
  },
  {
   "cell_type": "code",
   "execution_count": 15,
   "metadata": {},
   "outputs": [
    {
     "data": {
      "text/plain": [
       "(500, 2)"
      ]
     },
     "execution_count": 15,
     "metadata": {},
     "output_type": "execute_result"
    }
   ],
   "source": [
    "data2.shape"
   ]
  },
  {
   "cell_type": "code",
   "execution_count": 16,
   "metadata": {},
   "outputs": [
    {
     "data": {
      "text/plain": [
       "<matplotlib.collections.PathCollection at 0x7fa81127af60>"
      ]
     },
     "execution_count": 16,
     "metadata": {},
     "output_type": "execute_result"
    },
    {
     "data": {
      "image/png": "[encoded data removed]",
      "text/plain": [
       "<Figure size 432x288 with 1 Axes>"
      ]
     },
     "metadata": {
      "needs_background": "light"
     },
     "output_type": "display_data"
    }
   ],
   "source": [
    "n  = dbscan(data2,  3, 1.5)\n",
    "plt.scatter(data2[:,0],data2[:,1], c = n[:])"
   ]
  }
 ],
 "metadata": {
  "kernelspec": {
   "display_name": "Python 3",
   "language": "python",
   "name": "python3"
  },
  "language_info": {
   "codemirror_mode": {
    "name": "ipython",
    "version": 3
   },
   "file_extension": ".py",
   "mimetype": "text/x-python",
   "name": "python",
   "nbconvert_exporter": "python",
   "pygments_lexer": "ipython3",
   "version": "3.6.7"
  }
 },
 "nbformat": 4,
 "nbformat_minor": 2
}
